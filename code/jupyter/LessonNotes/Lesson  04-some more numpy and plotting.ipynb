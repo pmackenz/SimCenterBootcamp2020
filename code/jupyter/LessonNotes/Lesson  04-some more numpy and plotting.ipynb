{
 "cells": [
  {
   "cell_type": "markdown",
   "metadata": {},
   "source": [
    "# A Python Quick Start Tutorial\n",
    "# Lesson \\#4: Some more Matrix Operations & Plotting\n",
    "## by Peter Mackenzie-Helnwein\n",
    "University of Washington, Seattle, WA\n",
    "\n",
    "pmackenz@uw.edu          \n",
    "https://www.ce.washington.edu/facultyfinder/peter-mackenzie-helnwein"
   ]
  },
  {
   "cell_type": "markdown",
   "metadata": {},
   "source": [
    "## Resources (reminder)\n",
    "\n",
    "   1. matplotlib: https://matplotlib.org/\n",
    "   \n",
    "   1. **matplotlib gallery**: https://matplotlib.org/gallery/index.html\n",
    "   \n",
    "   1. numpy: https://numpy.org/doc/stable/ \n",
    "   \n",
    "   1. numpy tutorials: https://numpy.org/doc/stable/user/tutorials_index.html\n",
    "   \n",
    "   1. Python Docs: https://docs.python.org/3/\n",
    "   \n",
    "   1. Python Tutorial (comprehensive): https://docs.python.org/3/tutorial/index.html\n",
    "   \n",
    "   1. Python Library Reference (the nitty-gritty details): https://docs.python.org/3/library/index.html\n",
    "   \n",
    "   1. Everything else: http://google.com\n",
    "   "
   ]
  },
  {
   "cell_type": "markdown",
   "metadata": {},
   "source": [
    "## Discussing questions from the self-study assignment\n",
    "\n",
    "This section is to discuss your questions\n"
   ]
  },
  {
   "cell_type": "markdown",
   "metadata": {},
   "source": [
    "### Exercise 1:  Linear regression (without using libraries)\n",
    "\n",
    "**Given**:\n",
    "A data set is composed of two lists: input parameters `X` and corresponsing measured answers `Y`.  A single data point, $i$, is composed as $(X_i,Y_i)\\to$`(X[i],Y[i])` with $i=0,\\dots,N-1$.\n",
    "\n",
    "**Find**: The best linear fit for the provided data.  You need to develop your own implementation of the computations.  DO NOT USE regression library functions for this assignment!\n",
    "\n",
    "**Theory**:\n",
    "The data shall be approximated using a function\n",
    "$$ Y=f(X,a,b):=a + b X $$\n",
    "Using the _least square fit_ technique requires minimization of the cost function\n",
    "$$ \\mathcal{C}(a,b):=\\frac{1}{2} \\sum_{i=0}^{N-1} \\left( f(X_i, a,b) - Y_i \\right)^2  \n",
    "~~~\\to~~\\text{min}$$\n",
    "\n",
    "___Solution:___ \n",
    "$$ \n",
    "\\frac{\\partial\\mathcal{C}}{\\partial a} \n",
    "= \\sum_{i=0}^{N-1} \\left( f(X_i, a,b) - Y_i \\right)\n",
    "\\to (\\sum_{i=0}^{N-1} 1) a + (\\sum_{i=0}^{N-1} X_i) b =  \\sum_{i=0}^{N-1} Y_i\n",
    "$$\n",
    "$$ \n",
    "\\frac{\\partial\\mathcal{C}}{\\partial b} \n",
    "= \\sum_{i=0}^{N-1} \\left( f(X_i, a,b) - Y_i \\right) X_i\n",
    "\\to (\\sum_{i=0}^{N-1} X_i) a + (\\sum_{i=0}^{N-1} X_i X_i) b =  \\sum_{i=0}^{N-1} Y_i X_i\n",
    "$$\n",
    "\n",
    "**Implementation requirements**:\n",
    "Try to identify sums as dot products and use `numpy.array`s to \n",
    "1. store data\n",
    "2. compute dot products\n",
    "3. use `numpy.linalg.solve` to solve the resulting system of equations.\n",
    "4. use `matplotlib` to plot the data **and** the regression function.\n"
   ]
  },
  {
   "cell_type": "code",
   "execution_count": 1,
   "metadata": {},
   "outputs": [
    {
     "data": {
      "image/png": "[encoded data removed]",
      "text/plain": [
       "<Figure size 432x288 with 1 Axes>"
      ]
     },
     "metadata": {
      "needs_background": "light"
     },
     "output_type": "display_data"
    }
   ],
   "source": [
    "# The data -- will be a bit different every time you run it!\n",
    "import numpy as np\n",
    "\n",
    "N = 250\n",
    "X = np.random.uniform(0.5,23,N)\n",
    "Y = np.pi/4 + 5.*np.sin(X * np.pi/35) + np.random.normal(0.,1,N)\n",
    "\n",
    "import matplotlib.pyplot as plt\n",
    "plt.plot(X,Y,'or')\n",
    "plt.show()"
   ]
  },
  {
   "cell_type": "markdown",
   "metadata": {},
   "source": [
    "**My equations to solve**:\n",
    "\n",
    "$$ \n",
    "    ({\\bf 1}\\cdot{\\bf 1}) a + ({\\bf 1}\\cdot{\\bf X}) b =  ({\\bf 1}\\cdot{\\bf Y})\n",
    "$$\n",
    "$$ \n",
    "    ({\\bf X}\\cdot{\\bf 1}) a + ({\\bf X}\\cdot{\\bf X}) b =  ({\\bf X}\\cdot{\\bf Y})\n",
    "$$\n",
    "where\n",
    "$$\n",
    "\\begin{aligned}\n",
    "{\\bf X} &= [X_0,X_1,X_2,\\dots,X_{N-1}]  \\\\\n",
    "{\\bf Y} &= [Y_0,Y_1,Y_2,\\dots,Y_{N-1}]  \\\\\n",
    "{\\bf 1} &= [\\underbrace{1,1,1,\\dots,1}_{N~\\text{entries}}] \n",
    "\\end{aligned}\n",
    "$$\n",
    "\n",
    "**Your task**: \n",
    "Compute the coefficients and solve for the best fitting parameters"
   ]
  },
  {
   "cell_type": "code",
   "execution_count": 3,
   "metadata": {},
   "outputs": [
    {
     "ename": "NameError",
     "evalue": "name 'p' is not defined",
     "output_type": "error",
     "traceback": [
      "\u001b[0;31m---------------------------------------------------------------------------\u001b[0m",
      "\u001b[0;31mNameError\u001b[0m                                 Traceback (most recent call last)",
      "\u001b[0;32m<ipython-input-3-75b8bd79ef8d>\u001b[0m in \u001b[0;36m<module>\u001b[0;34m\u001b[0m\n\u001b[1;32m      4\u001b[0m \u001b[0;31m# YOUR CODE HERE ...\u001b[0m\u001b[0;34m\u001b[0m\u001b[0;34m\u001b[0m\u001b[0;34m\u001b[0m\u001b[0m\n\u001b[1;32m      5\u001b[0m \u001b[0;34m\u001b[0m\u001b[0m\n\u001b[0;32m----> 6\u001b[0;31m \u001b[0mprint\u001b[0m\u001b[0;34m(\u001b[0m\u001b[0;34m\"parameters p = {}\"\u001b[0m\u001b[0;34m.\u001b[0m\u001b[0mformat\u001b[0m\u001b[0;34m(\u001b[0m\u001b[0mp\u001b[0m\u001b[0;34m)\u001b[0m\u001b[0;34m)\u001b[0m\u001b[0;34m\u001b[0m\u001b[0;34m\u001b[0m\u001b[0m\n\u001b[0m",
      "\u001b[0;31mNameError\u001b[0m: name 'p' is not defined"
     ]
    }
   ],
   "source": [
    "from numpy import array, linspace, sqrt, ones, vstack\n",
    "from numpy.linalg import solve\n",
    "\n",
    "# YOUR CODE HERE ...\n",
    "\n",
    "print(\"parameters p = {}\".format(p))"
   ]
  },
  {
   "cell_type": "markdown",
   "metadata": {},
   "source": [
    "**Next task**: Compute your regression function and **add it to the plot**"
   ]
  },
  {
   "cell_type": "code",
   "execution_count": 5,
   "metadata": {},
   "outputs": [
    {
     "data": {
      "image/png": "[encoded data removed]",
      "text/plain": [
       "<Figure size 432x288 with 1 Axes>"
      ]
     },
     "metadata": {
      "needs_background": "light"
     },
     "output_type": "display_data"
    }
   ],
   "source": [
    "# plotting\n",
    "N = 10\n",
    "x = linspace(X.min(),X.max(),N)\n",
    "\n",
    "# YOUR CODE HERE:\n",
    "\n",
    "one = ones(len(X))\n",
    "\n",
    "M = array(\n",
    "    [[one@one, one@X],\n",
    "     [  one@X,   X@X]]\n",
    ")\n",
    "F = array([one@Y, X@Y])\n",
    "\n",
    "params = solve(M,F)\n",
    "\n",
    "y = params[0] + params[1]*x\n",
    "\n",
    "plt.plot(X,Y,'or')\n",
    "plt.plot(x,y,'-b')\n",
    "plt.show()"
   ]
  },
  {
   "cell_type": "markdown",
   "metadata": {},
   "source": [
    "### Exercise 2: Regression using numpy\n",
    "\n",
    "**Resource**: https://numpy.org/doc/stable/reference/generated/numpy.linalg.lstsq.html (scroll down to the example)\n",
    "\n",
    "**Your task**:\n",
    "Use `numpy.linalg.lstsq` to obtain a linear regression fit **and** plot it\n"
   ]
  },
  {
   "cell_type": "code",
   "execution_count": null,
   "metadata": {},
   "outputs": [],
   "source": [
    "from numpy.linalg import lstsq\n",
    "\n",
    "# YOUR CODE HERE ...\n",
    "\n",
    "print(p)\n",
    "\n",
    "# ---------------\n",
    "# plotting\n",
    "# ---------------\n",
    "\n",
    "N = 10\n",
    "x = linspace(X.min(),X.max(),N)\n",
    "\n",
    "# YOUR CODE HERE ...\n",
    "\n",
    "plt.plot(X,Y,'or')\n",
    "#plt.plot(x,y,'-b')\n",
    "plt.show()"
   ]
  },
  {
   "cell_type": "markdown",
   "metadata": {},
   "source": [
    "**Your task**:\n",
    "Modify the above to get a quadratic fit **and** add that one to the above plot"
   ]
  },
  {
   "cell_type": "code",
   "execution_count": null,
   "metadata": {},
   "outputs": [],
   "source": [
    "from numpy.linalg import lstsq\n",
    "\n",
    "# YOUR CODE HERE ...\n",
    "\n",
    "\n",
    "# ---------------\n",
    "# plotting\n",
    "# ---------------\n",
    "\n",
    "N = 10\n",
    "x = linspace(X.min(),X.max(),N)\n",
    "\n",
    "# YOUR CODE HERE ...\n",
    "\n",
    "plt.plot(X,Y,'or')\n",
    "#plt.plot(x,y,'-b')\n",
    "#plt.plot(x,y2,'-g')\n",
    "plt.show()"
   ]
  },
  {
   "cell_type": "markdown",
   "metadata": {},
   "source": [
    "### Exercise 3: \n",
    "\n",
    "**Resources**:\n",
    "1. **matplotlib gallery**: https://matplotlib.org/3.1.1/gallery/index.html\n",
    "\n",
    "\n",
    "**Your task**:\n",
    "1. A landscape shall be descrobed by the function\n",
    "$$\n",
    " z = (x-1)^2 - 3 x y + 0.2 (y-2)^2\n",
    "$$\n",
    "where $z$ is the elevation. Plot a map (`contour plot`) over $-2<x<6$ and $-3<y<3$.\n",
    "_Make sure axis scale equally (avoid distortion)_"
   ]
  },
  {
   "cell_type": "code",
   "execution_count": null,
   "metadata": {},
   "outputs": [],
   "source": [
    "import matplotlib\n",
    "import numpy as np\n",
    "import matplotlib.cm as cm\n",
    "import matplotlib.pyplot as plt\n",
    "\n",
    "# computing meshgrid and elevation \n",
    "\n",
    "# YOUR CODE HERE ..."
   ]
  },
  {
   "cell_type": "code",
   "execution_count": null,
   "metadata": {},
   "outputs": [],
   "source": [
    "fig, ax = plt.subplots()\n",
    "\n",
    "# YOUR CODE HERE ...\n"
   ]
  },
  {
   "cell_type": "markdown",
   "metadata": {},
   "source": [
    "2. Add gradient vectors to the contour plot.  These will indicate directions of steepest ascent.\n",
    "\n",
    "**Hint**: don't plot more than 10x10 vectors.  You may need a second grid for that. \n",
    "\n",
    "**Resource**: https://matplotlib.org/3.1.1/api/_as_gen/matplotlib.pyplot.quiver.html"
   ]
  },
  {
   "cell_type": "code",
   "execution_count": null,
   "metadata": {},
   "outputs": [],
   "source": [
    "# YOUR CODE HERE ...\n",
    "\n",
    "\n",
    "\n",
    "# plotting\n",
    "\n",
    "fig, ax = plt.subplots()\n",
    "\n",
    "# YOUR CODE HERE ...\n",
    "\n",
    "ax.set_aspect('equal')\n",
    "ax.set_title('Map to my landscape')"
   ]
  },
  {
   "cell_type": "markdown",
   "metadata": {},
   "source": [
    "## Homework questions\n",
    "\n",
    "We can all learn from your questions!"
   ]
  }
 ],
 "metadata": {
  "kernelspec": {
   "display_name": "Python 3",
   "language": "python",
   "name": "python3"
  },
  "language_info": {
   "codemirror_mode": {
    "name": "ipython",
    "version": 3
   },
   "file_extension": ".py",
   "mimetype": "text/x-python",
   "name": "python",
   "nbconvert_exporter": "python",
   "pygments_lexer": "ipython3",
   "version": "3.8.5"
  }
 },
 "nbformat": 4,
 "nbformat_minor": 4
}
